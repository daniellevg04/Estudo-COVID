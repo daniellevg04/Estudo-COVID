{
  "cells": [
    {
      "cell_type": "markdown",
      "metadata": {
        "id": "tuJhQ7EQyetW"
      },
      "source": [
        "####IMPORTS"
      ]
    },
    {
      "cell_type": "code",
      "execution_count": null,
      "metadata": {
        "id": "u3nU2vIvyTy0"
      },
      "outputs": [],
      "source": [
        "import numpy as np\n",
        "import pandas as pd\n",
        "from sklearn.model_selection import train_test_split\n",
        "from sklearn.svm import LinearSVC, SVC\n",
        "from sklearn.metrics import accuracy_score\n",
        "from sklearn.metrics import classification_report\n",
        "from sklearn.metrics import confusion_matrix\n",
        "import seaborn as sns\n",
        "import matplotlib.pyplot as plt\n",
        "from imblearn.over_sampling import RandomOverSampler\n",
        "from imblearn.under_sampling import RandomUnderSampler"
      ]
    },
    {
      "cell_type": "markdown",
      "metadata": {
        "id": "JFCwwcOZykn3"
      },
      "source": [
        "####DADOS"
      ]
    },
    {
      "cell_type": "code",
      "execution_count": null,
      "metadata": {
        "colab": {
          "base_uri": "https://localhost:8080/",
          "height": 498
        },
        "id": "uSEBqMNAywYp",
        "outputId": "66464180-0552-4a9a-96a4-a9001381cfd1"
      },
      "outputs": [
        {
          "output_type": "execute_result",
          "data": {
            "text/plain": [
              "   test_result     Gender  idade_anos priority  CovidConfirmadoCasa  \\\n",
              "0            0  Masculino          30        A                    1   \n",
              "1            0   Feminino          24        A                    0   \n",
              "2            0  Masculino          52        A                    1   \n",
              "3            0   Feminino          37        A                    1   \n",
              "4            1  Masculino          66        A                    1   \n",
              "\n",
              "   ProfissionalSaude  Febre  Tosse  DorGarganta  Coriza  ...  Transplantado  \\\n",
              "0                  0      1      1            1       0  ...              0   \n",
              "1                  1      0      1            1       1  ...              0   \n",
              "2                  0      1      1            0       1  ...              0   \n",
              "3                  1      0      1            1       0  ...              0   \n",
              "4                  0      0      1            0       1  ...              0   \n",
              "\n",
              "   GestacaoRisco  DoenteFigado  TratamentoImunossupressor  NA-Risco  Indicado  \\\n",
              "0              0             0                          0         0         1   \n",
              "1              0             0                          0         0         0   \n",
              "2              0             0                          0         1         1   \n",
              "3              0             0                          0         1         1   \n",
              "4              0             0                          0         1         1   \n",
              "\n",
              "    DataDosSintomas  SemanaEpidemiologica  DiasAteDiagnostico  \\\n",
              "0  10/06/2020 20:10                     7                   4   \n",
              "1  10/06/2020 19:35                     7                   4   \n",
              "2  01/06/2020 00:00                     6                  35   \n",
              "3  28/06/2020 00:00                    10                   8   \n",
              "4  10/06/2020 19:41                     7                   4   \n",
              "\n",
              "                                         Bairro  \n",
              "0                   Meier - Rio De Janeiro - RJ  \n",
              "1                           Inga - Niteroi - RJ  \n",
              "2  Parque Prazeres - Campos Dos Goytacazes - RJ  \n",
              "3                 Centro - Duque De Caxias - RJ  \n",
              "4         Barra Da Tijuca - Rio De Janeiro - RJ  \n",
              "\n",
              "[5 rows x 33 columns]"
            ],
            "text/html": [
              "\n",
              "  <div id=\"df-a1c2d2c0-2926-4f1d-8574-f0ea7754514e\" class=\"colab-df-container\">\n",
              "    <div>\n",
              "<style scoped>\n",
              "    .dataframe tbody tr th:only-of-type {\n",
              "        vertical-align: middle;\n",
              "    }\n",
              "\n",
              "    .dataframe tbody tr th {\n",
              "        vertical-align: top;\n",
              "    }\n",
              "\n",
              "    .dataframe thead th {\n",
              "        text-align: right;\n",
              "    }\n",
              "</style>\n",
              "<table border=\"1\" class=\"dataframe\">\n",
              "  <thead>\n",
              "    <tr style=\"text-align: right;\">\n",
              "      <th></th>\n",
              "      <th>test_result</th>\n",
              "      <th>Gender</th>\n",
              "      <th>idade_anos</th>\n",
              "      <th>priority</th>\n",
              "      <th>CovidConfirmadoCasa</th>\n",
              "      <th>ProfissionalSaude</th>\n",
              "      <th>Febre</th>\n",
              "      <th>Tosse</th>\n",
              "      <th>DorGarganta</th>\n",
              "      <th>Coriza</th>\n",
              "      <th>...</th>\n",
              "      <th>Transplantado</th>\n",
              "      <th>GestacaoRisco</th>\n",
              "      <th>DoenteFigado</th>\n",
              "      <th>TratamentoImunossupressor</th>\n",
              "      <th>NA-Risco</th>\n",
              "      <th>Indicado</th>\n",
              "      <th>DataDosSintomas</th>\n",
              "      <th>SemanaEpidemiologica</th>\n",
              "      <th>DiasAteDiagnostico</th>\n",
              "      <th>Bairro</th>\n",
              "    </tr>\n",
              "  </thead>\n",
              "  <tbody>\n",
              "    <tr>\n",
              "      <th>0</th>\n",
              "      <td>0</td>\n",
              "      <td>Masculino</td>\n",
              "      <td>30</td>\n",
              "      <td>A</td>\n",
              "      <td>1</td>\n",
              "      <td>0</td>\n",
              "      <td>1</td>\n",
              "      <td>1</td>\n",
              "      <td>1</td>\n",
              "      <td>0</td>\n",
              "      <td>...</td>\n",
              "      <td>0</td>\n",
              "      <td>0</td>\n",
              "      <td>0</td>\n",
              "      <td>0</td>\n",
              "      <td>0</td>\n",
              "      <td>1</td>\n",
              "      <td>10/06/2020 20:10</td>\n",
              "      <td>7</td>\n",
              "      <td>4</td>\n",
              "      <td>Meier - Rio De Janeiro - RJ</td>\n",
              "    </tr>\n",
              "    <tr>\n",
              "      <th>1</th>\n",
              "      <td>0</td>\n",
              "      <td>Feminino</td>\n",
              "      <td>24</td>\n",
              "      <td>A</td>\n",
              "      <td>0</td>\n",
              "      <td>1</td>\n",
              "      <td>0</td>\n",
              "      <td>1</td>\n",
              "      <td>1</td>\n",
              "      <td>1</td>\n",
              "      <td>...</td>\n",
              "      <td>0</td>\n",
              "      <td>0</td>\n",
              "      <td>0</td>\n",
              "      <td>0</td>\n",
              "      <td>0</td>\n",
              "      <td>0</td>\n",
              "      <td>10/06/2020 19:35</td>\n",
              "      <td>7</td>\n",
              "      <td>4</td>\n",
              "      <td>Inga - Niteroi - RJ</td>\n",
              "    </tr>\n",
              "    <tr>\n",
              "      <th>2</th>\n",
              "      <td>0</td>\n",
              "      <td>Masculino</td>\n",
              "      <td>52</td>\n",
              "      <td>A</td>\n",
              "      <td>1</td>\n",
              "      <td>0</td>\n",
              "      <td>1</td>\n",
              "      <td>1</td>\n",
              "      <td>0</td>\n",
              "      <td>1</td>\n",
              "      <td>...</td>\n",
              "      <td>0</td>\n",
              "      <td>0</td>\n",
              "      <td>0</td>\n",
              "      <td>0</td>\n",
              "      <td>1</td>\n",
              "      <td>1</td>\n",
              "      <td>01/06/2020 00:00</td>\n",
              "      <td>6</td>\n",
              "      <td>35</td>\n",
              "      <td>Parque Prazeres - Campos Dos Goytacazes - RJ</td>\n",
              "    </tr>\n",
              "    <tr>\n",
              "      <th>3</th>\n",
              "      <td>0</td>\n",
              "      <td>Feminino</td>\n",
              "      <td>37</td>\n",
              "      <td>A</td>\n",
              "      <td>1</td>\n",
              "      <td>1</td>\n",
              "      <td>0</td>\n",
              "      <td>1</td>\n",
              "      <td>1</td>\n",
              "      <td>0</td>\n",
              "      <td>...</td>\n",
              "      <td>0</td>\n",
              "      <td>0</td>\n",
              "      <td>0</td>\n",
              "      <td>0</td>\n",
              "      <td>1</td>\n",
              "      <td>1</td>\n",
              "      <td>28/06/2020 00:00</td>\n",
              "      <td>10</td>\n",
              "      <td>8</td>\n",
              "      <td>Centro - Duque De Caxias - RJ</td>\n",
              "    </tr>\n",
              "    <tr>\n",
              "      <th>4</th>\n",
              "      <td>1</td>\n",
              "      <td>Masculino</td>\n",
              "      <td>66</td>\n",
              "      <td>A</td>\n",
              "      <td>1</td>\n",
              "      <td>0</td>\n",
              "      <td>0</td>\n",
              "      <td>1</td>\n",
              "      <td>0</td>\n",
              "      <td>1</td>\n",
              "      <td>...</td>\n",
              "      <td>0</td>\n",
              "      <td>0</td>\n",
              "      <td>0</td>\n",
              "      <td>0</td>\n",
              "      <td>1</td>\n",
              "      <td>1</td>\n",
              "      <td>10/06/2020 19:41</td>\n",
              "      <td>7</td>\n",
              "      <td>4</td>\n",
              "      <td>Barra Da Tijuca - Rio De Janeiro - RJ</td>\n",
              "    </tr>\n",
              "  </tbody>\n",
              "</table>\n",
              "<p>5 rows × 33 columns</p>\n",
              "</div>\n",
              "    <div class=\"colab-df-buttons\">\n",
              "\n",
              "  <div class=\"colab-df-container\">\n",
              "    <button class=\"colab-df-convert\" onclick=\"convertToInteractive('df-a1c2d2c0-2926-4f1d-8574-f0ea7754514e')\"\n",
              "            title=\"Convert this dataframe to an interactive table.\"\n",
              "            style=\"display:none;\">\n",
              "\n",
              "  <svg xmlns=\"http://www.w3.org/2000/svg\" height=\"24px\" viewBox=\"0 -960 960 960\">\n",
              "    <path d=\"M120-120v-720h720v720H120Zm60-500h600v-160H180v160Zm220 220h160v-160H400v160Zm0 220h160v-160H400v160ZM180-400h160v-160H180v160Zm440 0h160v-160H620v160ZM180-180h160v-160H180v160Zm440 0h160v-160H620v160Z\"/>\n",
              "  </svg>\n",
              "    </button>\n",
              "\n",
              "  <style>\n",
              "    .colab-df-container {\n",
              "      display:flex;\n",
              "      gap: 12px;\n",
              "    }\n",
              "\n",
              "    .colab-df-convert {\n",
              "      background-color: #E8F0FE;\n",
              "      border: none;\n",
              "      border-radius: 50%;\n",
              "      cursor: pointer;\n",
              "      display: none;\n",
              "      fill: #1967D2;\n",
              "      height: 32px;\n",
              "      padding: 0 0 0 0;\n",
              "      width: 32px;\n",
              "    }\n",
              "\n",
              "    .colab-df-convert:hover {\n",
              "      background-color: #E2EBFA;\n",
              "      box-shadow: 0px 1px 2px rgba(60, 64, 67, 0.3), 0px 1px 3px 1px rgba(60, 64, 67, 0.15);\n",
              "      fill: #174EA6;\n",
              "    }\n",
              "\n",
              "    .colab-df-buttons div {\n",
              "      margin-bottom: 4px;\n",
              "    }\n",
              "\n",
              "    [theme=dark] .colab-df-convert {\n",
              "      background-color: #3B4455;\n",
              "      fill: #D2E3FC;\n",
              "    }\n",
              "\n",
              "    [theme=dark] .colab-df-convert:hover {\n",
              "      background-color: #434B5C;\n",
              "      box-shadow: 0px 1px 3px 1px rgba(0, 0, 0, 0.15);\n",
              "      filter: drop-shadow(0px 1px 2px rgba(0, 0, 0, 0.3));\n",
              "      fill: #FFFFFF;\n",
              "    }\n",
              "  </style>\n",
              "\n",
              "    <script>\n",
              "      const buttonEl =\n",
              "        document.querySelector('#df-a1c2d2c0-2926-4f1d-8574-f0ea7754514e button.colab-df-convert');\n",
              "      buttonEl.style.display =\n",
              "        google.colab.kernel.accessAllowed ? 'block' : 'none';\n",
              "\n",
              "      async function convertToInteractive(key) {\n",
              "        const element = document.querySelector('#df-a1c2d2c0-2926-4f1d-8574-f0ea7754514e');\n",
              "        const dataTable =\n",
              "          await google.colab.kernel.invokeFunction('convertToInteractive',\n",
              "                                                    [key], {});\n",
              "        if (!dataTable) return;\n",
              "\n",
              "        const docLinkHtml = 'Like what you see? Visit the ' +\n",
              "          '<a target=\"_blank\" href=https://colab.research.google.com/notebooks/data_table.ipynb>data table notebook</a>'\n",
              "          + ' to learn more about interactive tables.';\n",
              "        element.innerHTML = '';\n",
              "        dataTable['output_type'] = 'display_data';\n",
              "        await google.colab.output.renderOutput(dataTable, element);\n",
              "        const docLink = document.createElement('div');\n",
              "        docLink.innerHTML = docLinkHtml;\n",
              "        element.appendChild(docLink);\n",
              "      }\n",
              "    </script>\n",
              "  </div>\n",
              "\n",
              "\n",
              "<div id=\"df-e4f2819d-4213-44d1-904a-3e2517fb683b\">\n",
              "  <button class=\"colab-df-quickchart\" onclick=\"quickchart('df-e4f2819d-4213-44d1-904a-3e2517fb683b')\"\n",
              "            title=\"Suggest charts.\"\n",
              "            style=\"display:none;\">\n",
              "\n",
              "<svg xmlns=\"http://www.w3.org/2000/svg\" height=\"24px\"viewBox=\"0 0 24 24\"\n",
              "     width=\"24px\">\n",
              "    <g>\n",
              "        <path d=\"M19 3H5c-1.1 0-2 .9-2 2v14c0 1.1.9 2 2 2h14c1.1 0 2-.9 2-2V5c0-1.1-.9-2-2-2zM9 17H7v-7h2v7zm4 0h-2V7h2v10zm4 0h-2v-4h2v4z\"/>\n",
              "    </g>\n",
              "</svg>\n",
              "  </button>\n",
              "\n",
              "<style>\n",
              "  .colab-df-quickchart {\n",
              "      --bg-color: #E8F0FE;\n",
              "      --fill-color: #1967D2;\n",
              "      --hover-bg-color: #E2EBFA;\n",
              "      --hover-fill-color: #174EA6;\n",
              "      --disabled-fill-color: #AAA;\n",
              "      --disabled-bg-color: #DDD;\n",
              "  }\n",
              "\n",
              "  [theme=dark] .colab-df-quickchart {\n",
              "      --bg-color: #3B4455;\n",
              "      --fill-color: #D2E3FC;\n",
              "      --hover-bg-color: #434B5C;\n",
              "      --hover-fill-color: #FFFFFF;\n",
              "      --disabled-bg-color: #3B4455;\n",
              "      --disabled-fill-color: #666;\n",
              "  }\n",
              "\n",
              "  .colab-df-quickchart {\n",
              "    background-color: var(--bg-color);\n",
              "    border: none;\n",
              "    border-radius: 50%;\n",
              "    cursor: pointer;\n",
              "    display: none;\n",
              "    fill: var(--fill-color);\n",
              "    height: 32px;\n",
              "    padding: 0;\n",
              "    width: 32px;\n",
              "  }\n",
              "\n",
              "  .colab-df-quickchart:hover {\n",
              "    background-color: var(--hover-bg-color);\n",
              "    box-shadow: 0 1px 2px rgba(60, 64, 67, 0.3), 0 1px 3px 1px rgba(60, 64, 67, 0.15);\n",
              "    fill: var(--button-hover-fill-color);\n",
              "  }\n",
              "\n",
              "  .colab-df-quickchart-complete:disabled,\n",
              "  .colab-df-quickchart-complete:disabled:hover {\n",
              "    background-color: var(--disabled-bg-color);\n",
              "    fill: var(--disabled-fill-color);\n",
              "    box-shadow: none;\n",
              "  }\n",
              "\n",
              "  .colab-df-spinner {\n",
              "    border: 2px solid var(--fill-color);\n",
              "    border-color: transparent;\n",
              "    border-bottom-color: var(--fill-color);\n",
              "    animation:\n",
              "      spin 1s steps(1) infinite;\n",
              "  }\n",
              "\n",
              "  @keyframes spin {\n",
              "    0% {\n",
              "      border-color: transparent;\n",
              "      border-bottom-color: var(--fill-color);\n",
              "      border-left-color: var(--fill-color);\n",
              "    }\n",
              "    20% {\n",
              "      border-color: transparent;\n",
              "      border-left-color: var(--fill-color);\n",
              "      border-top-color: var(--fill-color);\n",
              "    }\n",
              "    30% {\n",
              "      border-color: transparent;\n",
              "      border-left-color: var(--fill-color);\n",
              "      border-top-color: var(--fill-color);\n",
              "      border-right-color: var(--fill-color);\n",
              "    }\n",
              "    40% {\n",
              "      border-color: transparent;\n",
              "      border-right-color: var(--fill-color);\n",
              "      border-top-color: var(--fill-color);\n",
              "    }\n",
              "    60% {\n",
              "      border-color: transparent;\n",
              "      border-right-color: var(--fill-color);\n",
              "    }\n",
              "    80% {\n",
              "      border-color: transparent;\n",
              "      border-right-color: var(--fill-color);\n",
              "      border-bottom-color: var(--fill-color);\n",
              "    }\n",
              "    90% {\n",
              "      border-color: transparent;\n",
              "      border-bottom-color: var(--fill-color);\n",
              "    }\n",
              "  }\n",
              "</style>\n",
              "\n",
              "  <script>\n",
              "    async function quickchart(key) {\n",
              "      const quickchartButtonEl =\n",
              "        document.querySelector('#' + key + ' button');\n",
              "      quickchartButtonEl.disabled = true;  // To prevent multiple clicks.\n",
              "      quickchartButtonEl.classList.add('colab-df-spinner');\n",
              "      try {\n",
              "        const charts = await google.colab.kernel.invokeFunction(\n",
              "            'suggestCharts', [key], {});\n",
              "      } catch (error) {\n",
              "        console.error('Error during call to suggestCharts:', error);\n",
              "      }\n",
              "      quickchartButtonEl.classList.remove('colab-df-spinner');\n",
              "      quickchartButtonEl.classList.add('colab-df-quickchart-complete');\n",
              "    }\n",
              "    (() => {\n",
              "      let quickchartButtonEl =\n",
              "        document.querySelector('#df-e4f2819d-4213-44d1-904a-3e2517fb683b button');\n",
              "      quickchartButtonEl.style.display =\n",
              "        google.colab.kernel.accessAllowed ? 'block' : 'none';\n",
              "    })();\n",
              "  </script>\n",
              "</div>\n",
              "    </div>\n",
              "  </div>\n"
            ]
          },
          "metadata": {},
          "execution_count": 56
        }
      ],
      "source": [
        "dados = pd.read_csv('dados.csv', sep = ';' )\n",
        "\n",
        "#TIRAR OS DADOS INCONCLUSIVOS\n",
        "dados = dados[dados['test_result'] != 'Inconclusivo']\n",
        "\n",
        "# Trocando as variáveis\n",
        "for coluna in dados.columns:\n",
        "    dados[coluna] = dados[coluna].replace('f', 0)\n",
        "    dados[coluna] = dados[coluna].replace('t', 1)\n",
        "\n",
        "#TROCAR VARIAVEIS NO RESULTADO\n",
        "a_trocar = {\n",
        "    'Negativo':0,\n",
        "    'Positivo':1\n",
        "}\n",
        "dados.test_result = dados.test_result.map(a_trocar)\n",
        "dados.head()"
      ]
    },
    {
      "cell_type": "markdown",
      "metadata": {
        "id": "uXfyWwapzeUi"
      },
      "source": [
        "####TREINANDO"
      ]
    },
    {
      "cell_type": "code",
      "execution_count": null,
      "metadata": {
        "id": "bJ1yY3ZpzcZg"
      },
      "outputs": [],
      "source": [
        "sintomas = ['Febre','Tosse', 'DorGarganta', 'Coriza', 'Mialgia', 'Enjoo', 'Diarreia', 'PerdaOlfato','FaltaAr']\n",
        "sintomas = dados[sintomas]\n",
        "diagnostico = dados[\"test_result\"]"
      ]
    },
    {
      "cell_type": "markdown",
      "metadata": {
        "id": "q86YUs36ziK-"
      },
      "source": [
        "#####LINEAR SVC SEM BALANCEAMENTO"
      ]
    },
    {
      "cell_type": "code",
      "execution_count": null,
      "metadata": {
        "colab": {
          "base_uri": "https://localhost:8080/"
        },
        "id": "u_OJ9QiLznwH",
        "outputId": "6f482d9b-bae4-4d50-a7dd-76d3c95c4c5f"
      },
      "outputs": [
        {
          "output_type": "stream",
          "name": "stdout",
          "text": [
            "Treinaremos com 48031 elementos e testaremos com 16011 elementos\n",
            "Resultado da classificação 85.73%\n",
            "              precision    recall  f1-score   support\n",
            "\n",
            "    Negativo       0.86      1.00      0.92     13727\n",
            "    Positivo       0.00      0.00      0.00      2284\n",
            "\n",
            "    accuracy                           0.86     16011\n",
            "   macro avg       0.43      0.50      0.46     16011\n",
            "weighted avg       0.74      0.86      0.79     16011\n",
            "\n"
          ]
        },
        {
          "output_type": "stream",
          "name": "stderr",
          "text": [
            "/usr/local/lib/python3.10/dist-packages/sklearn/metrics/_classification.py:1344: UndefinedMetricWarning: Precision and F-score are ill-defined and being set to 0.0 in labels with no predicted samples. Use `zero_division` parameter to control this behavior.\n",
            "  _warn_prf(average, modifier, msg_start, len(result))\n",
            "/usr/local/lib/python3.10/dist-packages/sklearn/metrics/_classification.py:1344: UndefinedMetricWarning: Precision and F-score are ill-defined and being set to 0.0 in labels with no predicted samples. Use `zero_division` parameter to control this behavior.\n",
            "  _warn_prf(average, modifier, msg_start, len(result))\n",
            "/usr/local/lib/python3.10/dist-packages/sklearn/metrics/_classification.py:1344: UndefinedMetricWarning: Precision and F-score are ill-defined and being set to 0.0 in labels with no predicted samples. Use `zero_division` parameter to control this behavior.\n",
            "  _warn_prf(average, modifier, msg_start, len(result))\n"
          ]
        }
      ],
      "source": [
        "SEED = 411\n",
        "np.random.seed(SEED)\n",
        "treino_x, teste_x, treino_y, teste_y = train_test_split(sintomas, diagnostico, test_size = 0.25,\n",
        "                                                         stratify = diagnostico)\n",
        "print(\"Treinaremos com %d elementos e testaremos com %d elementos\" % (len(treino_x), len(teste_x)))\n",
        "\n",
        "classificador = LinearSVC()\n",
        "classificador.fit(treino_x, treino_y)\n",
        "previsoes = classificador.predict(teste_x)\n",
        "\n",
        "print('Resultado da classificação %.2f%%' %(classificador.score(teste_x,teste_y)*100))\n",
        "y_true = teste_y\n",
        "y_pred = previsoes\n",
        "target_names = ['Negativo', 'Positivo']\n",
        "\n",
        "resultado = classification_report(y_true, y_pred, target_names=target_names)\n",
        "print(resultado)"
      ]
    },
    {
      "cell_type": "code",
      "execution_count": null,
      "metadata": {
        "colab": {
          "base_uri": "https://localhost:8080/",
          "height": 484
        },
        "id": "4iIX5NCp0FCI",
        "outputId": "3e2496d9-e6cd-43fb-e01b-0600a39a04b5"
      },
      "outputs": [
        {
          "output_type": "execute_result",
          "data": {
            "text/plain": [
              "[Text(0.5, 23.52222222222222, 'predição'),\n",
              " Text(50.722222222222214, 0.5, 'real')]"
            ]
          },
          "metadata": {},
          "execution_count": 60
        },
        {
          "output_type": "display_data",
          "data": {
            "text/plain": [
              "<Figure size 640x480 with 2 Axes>"
            ],
            "image/png": "[encoded data removed]"
          },
          "metadata": {}
        }
      ],
      "source": [
        "confusao = confusion_matrix(teste_y, classificador.predict(teste_x))\n",
        "sns.heatmap(confusao, annot = True, fmt = 'd').set(xlabel = 'predição', ylabel = \"real\")"
      ]
    },
    {
      "cell_type": "markdown",
      "metadata": {
        "id": "qtBhmdkw2VMm"
      },
      "source": [
        "#####OVERRSAMPLING"
      ]
    },
    {
      "cell_type": "code",
      "execution_count": null,
      "metadata": {
        "colab": {
          "base_uri": "https://localhost:8080/"
        },
        "id": "J9h30UYE0kM1",
        "outputId": "fd19014d-7fca-4f70-97ec-c2f36292f93c"
      },
      "outputs": [
        {
          "output_type": "stream",
          "name": "stdout",
          "text": [
            "Treinaremos com 82357 elementos e testaremos com 27453 elementos\n",
            "Resultado da classificação 68.27%\n",
            "              precision    recall  f1-score   support\n",
            "\n",
            "    Negativo       0.66      0.76      0.71     13727\n",
            "    Positivo       0.72      0.60      0.66     13726\n",
            "\n",
            "    accuracy                           0.68     27453\n",
            "   macro avg       0.69      0.68      0.68     27453\n",
            "weighted avg       0.69      0.68      0.68     27453\n",
            "\n"
          ]
        }
      ],
      "source": [
        "SEED = 411\n",
        "np.random.seed(SEED)\n",
        "\n",
        "# Criar uma instância do RandomUnderSampler\n",
        "oversampler = RandomOverSampler(random_state=SEED)\n",
        "\n",
        "# Aplicar aos dados\n",
        "sintomas_o, diagnostico_o = oversampler.fit_resample(sintomas, diagnostico)\n",
        "\n",
        "\n",
        "treino_x_o, teste_x_o, treino_y_o, teste_y_o = train_test_split(sintomas_o, diagnostico_o, test_size = 0.25,\n",
        "                                                         stratify = diagnostico_o)\n",
        "print(\"Treinaremos com %d elementos e testaremos com %d elementos\" % (len(treino_x_o), len(teste_x_o)))\n",
        "\n",
        "classificador = LinearSVC()\n",
        "classificador.fit(treino_x_o, treino_y_o)\n",
        "previsoes_o = classificador.predict(teste_x_o)\n",
        "\n",
        "print('Resultado da classificação %.2f%%' %(classificador.score(teste_x_o,teste_y_o)*100))\n",
        "\n",
        "y_true_o = teste_y_o\n",
        "y_pred_o = previsoes_o\n",
        "target_names = ['Negativo', 'Positivo']\n",
        "\n",
        "resultado_o = classification_report(y_true_o, y_pred_o, target_names=target_names)\n",
        "print(resultado_o)"
      ]
    },
    {
      "cell_type": "code",
      "execution_count": null,
      "metadata": {
        "colab": {
          "base_uri": "https://localhost:8080/",
          "height": 484
        },
        "id": "e4DCzYVf4iM4",
        "outputId": "3763843b-5f13-402d-ce6d-32770bde4bf0"
      },
      "outputs": [
        {
          "output_type": "execute_result",
          "data": {
            "text/plain": [
              "[Text(0.5, 23.52222222222222, 'predição'),\n",
              " Text(50.722222222222214, 0.5, 'real')]"
            ]
          },
          "metadata": {},
          "execution_count": 62
        },
        {
          "output_type": "display_data",
          "data": {
            "text/plain": [
              "<Figure size 640x480 with 2 Axes>"
            ],
            "image/png": "[encoded data removed]"
          },
          "metadata": {}
        }
      ],
      "source": [
        "confusao_o = confusion_matrix(teste_y_o, classificador.predict(teste_x_o))\n",
        "sns.heatmap(confusao_o, annot = True, fmt = 'd').set(xlabel = 'predição', ylabel = \"real\")"
      ]
    },
    {
      "cell_type": "markdown",
      "metadata": {
        "id": "puirZkfm5jgR"
      },
      "source": [
        "#####UNDERSAMPLING"
      ]
    },
    {
      "cell_type": "code",
      "execution_count": null,
      "metadata": {
        "colab": {
          "base_uri": "https://localhost:8080/"
        },
        "id": "YzJkfKrW42s3",
        "outputId": "60a268c8-8c63-4d48-ec33-7dcecd8e8209"
      },
      "outputs": [
        {
          "output_type": "stream",
          "name": "stdout",
          "text": [
            "Treinaremos com 13705 elementos e testaremos com 4569 elementos\n",
            "Resultado da classificação 68.02%\n",
            "              precision    recall  f1-score   support\n",
            "\n",
            "    Negativo       0.66      0.75      0.70      2285\n",
            "    Positivo       0.71      0.61      0.66      2284\n",
            "\n",
            "    accuracy                           0.68      4569\n",
            "   macro avg       0.68      0.68      0.68      4569\n",
            "weighted avg       0.68      0.68      0.68      4569\n",
            "\n"
          ]
        }
      ],
      "source": [
        "SEED = 411\n",
        "np.random.seed(SEED)\n",
        "\n",
        "# Criar uma instância do RandomUnderSampler\n",
        "undersampler = RandomUnderSampler(random_state=SEED)\n",
        "\n",
        "# Aplicar aos dados\n",
        "sintomas_u, diagnostico_u = undersampler.fit_resample(sintomas, diagnostico)\n",
        "\n",
        "\n",
        "treino_x_u, teste_x_u, treino_y_u, teste_y_u = train_test_split(sintomas_u, diagnostico_u, test_size = 0.25,\n",
        "                                                         stratify = diagnostico_u)\n",
        "print(\"Treinaremos com %d elementos e testaremos com %d elementos\" % (len(treino_x_u), len(teste_x_u)))\n",
        "\n",
        "classificador = LinearSVC()\n",
        "classificador.fit(treino_x_u, treino_y_u)\n",
        "previsoes_u = classificador.predict(teste_x_u)\n",
        "\n",
        "print('Resultado da classificação %.2f%%' %(classificador.score(teste_x_u,teste_y_u)*100))\n",
        "\n",
        "y_true_u = teste_y_u\n",
        "y_pred_u = previsoes_u\n",
        "target_names = ['Negativo', 'Positivo']\n",
        "\n",
        "resultado_u = classification_report(y_true_u, y_pred_u, target_names=target_names)\n",
        "print(resultado_u )"
      ]
    },
    {
      "cell_type": "code",
      "execution_count": null,
      "metadata": {
        "colab": {
          "base_uri": "https://localhost:8080/",
          "height": 484
        },
        "id": "xI0J26V_6IKH",
        "outputId": "bbad4421-65df-4511-b3b4-d891c63c2846"
      },
      "outputs": [
        {
          "output_type": "execute_result",
          "data": {
            "text/plain": [
              "[Text(0.5, 23.52222222222222, 'predição'),\n",
              " Text(50.722222222222214, 0.5, 'real')]"
            ]
          },
          "metadata": {},
          "execution_count": 64
        },
        {
          "output_type": "display_data",
          "data": {
            "text/plain": [
              "<Figure size 640x480 with 2 Axes>"
            ],
            "image/png": "[encoded data removed]"
          },
          "metadata": {}
        }
      ],
      "source": [
        "confusao_u = confusion_matrix(teste_y_u, classificador.predict(teste_x_u))\n",
        "sns.heatmap(confusao_u, annot = True, fmt = 'd').set(xlabel = 'predição', ylabel = \"real\")"
      ]
    },
    {
      "cell_type": "markdown",
      "metadata": {
        "id": "dNZwLNq66XNK"
      },
      "source": [
        "#####COST SENSITIVE BALANCEADO"
      ]
    },
    {
      "cell_type": "code",
      "execution_count": null,
      "metadata": {
        "colab": {
          "base_uri": "https://localhost:8080/"
        },
        "id": "EnUJC18B6avO",
        "outputId": "099f8c23-4061-48c4-c805-30b128982928"
      },
      "outputs": [
        {
          "output_type": "stream",
          "name": "stdout",
          "text": [
            "Treinaremos com 48031 elementos e testaremos com 16011 elementos\n",
            "Resultado da classificação 73.91%\n",
            "              precision    recall  f1-score   support\n",
            "\n",
            "    Negativo       0.92      0.76      0.83     13727\n",
            "    Positivo       0.30      0.61      0.40      2284\n",
            "\n",
            "    accuracy                           0.74     16011\n",
            "   macro avg       0.61      0.68      0.62     16011\n",
            "weighted avg       0.83      0.74      0.77     16011\n",
            "\n",
            "Coeficientes do hiperplano separador: [[ 0.21989818  0.08245868 -0.15545535 -0.08717816  0.11503058  0.05394372\n",
            "  -0.02167148  0.62526888  0.15624703]]\n"
          ]
        }
      ],
      "source": [
        "SEED = 411\n",
        "np.random.seed(SEED)\n",
        "treino_x_c, teste_x_c, treino_y_c, teste_y_c = train_test_split(sintomas, diagnostico, test_size = 0.25,\n",
        "                                                               stratify = diagnostico)\n",
        "print(\"Treinaremos com %d elementos e testaremos com %d elementos\" % (len(treino_x_c), len(teste_x_c)))\n",
        "\n",
        "classificador = LinearSVC(class_weight='balanced')\n",
        "classificador.fit(treino_x_c, treino_y_c)\n",
        "previsoes_c = classificador.predict(teste_x_c)\n",
        "hiperplano = classificador.coef_\n",
        "\n",
        "print('Resultado da classificação %.2f%%' %(classificador.score(teste_x_c,teste_y_c)*100))\n",
        "y_true_c = teste_y_c\n",
        "y_pred_c = previsoes_c\n",
        "target_names = ['Negativo', 'Positivo']\n",
        "\n",
        "\n",
        "resultado_c = classification_report(y_true_c, y_pred_c, target_names=target_names)\n",
        "print(resultado_c)\n",
        "print(\"Coeficientes do hiperplano separador:\", hiperplano)"
      ]
    },
    {
      "cell_type": "code",
      "execution_count": null,
      "metadata": {
        "colab": {
          "base_uri": "https://localhost:8080/"
        },
        "id": "yfLkVTi39-DN",
        "outputId": "2e74149e-b891-403f-99d3-64da34ea68c1"
      },
      "outputs": [
        {
          "output_type": "execute_result",
          "data": {
            "text/plain": [
              "array([[ 0.21989818,  0.08245868, -0.15545535, -0.08717816,  0.11503058,\n",
              "         0.05394372, -0.02167148,  0.62526888,  0.15624703]])"
            ]
          },
          "metadata": {},
          "execution_count": 66
        }
      ],
      "source": [
        "hiperplano = classificador.coef_\n",
        "hiperplano"
      ]
    },
    {
      "cell_type": "code",
      "execution_count": null,
      "metadata": {
        "colab": {
          "base_uri": "https://localhost:8080/",
          "height": 484
        },
        "id": "Gsp2gCHf7SYD",
        "outputId": "985ead73-27a9-4155-8d68-8aeb21655d09"
      },
      "outputs": [
        {
          "output_type": "execute_result",
          "data": {
            "text/plain": [
              "[Text(0.5, 23.52222222222222, 'predição'),\n",
              " Text(50.722222222222214, 0.5, 'real')]"
            ]
          },
          "metadata": {},
          "execution_count": 67
        },
        {
          "output_type": "display_data",
          "data": {
            "text/plain": [
              "<Figure size 640x480 with 2 Axes>"
            ],
            "image/png": "[encoded data removed]"
          },
          "metadata": {}
        }
      ],
      "source": [
        "confusao_c = confusion_matrix(teste_y_c, classificador.predict(teste_x_c))\n",
        "sns.heatmap(confusao_c, annot = True, fmt = 'd').set(xlabel = 'predição', ylabel = \"real\")"
      ]
    },
    {
      "cell_type": "markdown",
      "metadata": {
        "id": "dhT_njWwbB5j"
      },
      "source": [
        "##### KERNEL"
      ]
    },
    {
      "cell_type": "code",
      "execution_count": null,
      "metadata": {
        "colab": {
          "base_uri": "https://localhost:8080/"
        },
        "id": "I1ebxUvNbBX7",
        "outputId": "55e819b0-85c4-4356-b682-7f29e2cd781a"
      },
      "outputs": [
        {
          "output_type": "stream",
          "name": "stdout",
          "text": [
            "Treinaremos com 48031 elementos e testaremos com 16011 elementos\n",
            "Resultado da classificação 70.92%\n",
            "              precision    recall  f1-score   support\n",
            "\n",
            "    Negativo       0.93      0.72      0.81     13727\n",
            "    Positivo       0.28      0.65      0.39      2284\n",
            "\n",
            "    accuracy                           0.71     16011\n",
            "   macro avg       0.60      0.69      0.60     16011\n",
            "weighted avg       0.83      0.71      0.75     16011\n",
            "\n"
          ]
        }
      ],
      "source": [
        "SEED = 411\n",
        "np.random.seed(SEED)\n",
        "treino_xk, teste_xk, treino_yk, teste_yk = train_test_split(sintomas, diagnostico, test_size = 0.25,\n",
        "                                                            stratify = diagnostico)\n",
        "print(\"Treinaremos com %d elementos e testaremos com %d elementos\" % (len(treino_xk), len(teste_xk)))\n",
        "\n",
        "classificador2 = SVC(kernel='rbf', class_weight='balanced')\n",
        "classificador2.fit(treino_xk, treino_yk)\n",
        "previsoes_k = classificador2.predict(teste_xk)\n",
        "\n",
        "print('Resultado da classificação %.2f%%' %(classificador2.score(teste_xk,teste_yk)*100))\n",
        "\n",
        "y_true_k = teste_yk\n",
        "y_pred_k = previsoes_k\n",
        "target_names = ['Negativo', 'Positivo']\n",
        "\n",
        "resultado_k = classification_report(y_true_k, y_pred_k, target_names=target_names)\n",
        "print(resultado_k)"
      ]
    },
    {
      "cell_type": "code",
      "execution_count": null,
      "metadata": {
        "colab": {
          "base_uri": "https://localhost:8080/",
          "height": 484
        },
        "id": "SnxcvhXhb4pr",
        "outputId": "ae5f8570-4f3d-4758-bb7a-38711c071540"
      },
      "outputs": [
        {
          "output_type": "execute_result",
          "data": {
            "text/plain": [
              "[Text(0.5, 23.52222222222222, 'predição'),\n",
              " Text(50.722222222222214, 0.5, 'real')]"
            ]
          },
          "metadata": {},
          "execution_count": 69
        },
        {
          "output_type": "display_data",
          "data": {
            "text/plain": [
              "<Figure size 640x480 with 2 Axes>"
            ],
            "image/png": "[encoded data removed]"
          },
          "metadata": {}
        }
      ],
      "source": [
        "confusao_k = confusion_matrix(teste_yk, previsoes_k)\n",
        "sns.heatmap(confusao_k, annot = True, fmt = 'd').set(xlabel = 'predição', ylabel = \"real\")"
      ]
    },
    {
      "cell_type": "markdown",
      "metadata": {
        "id": "dGWFM3JD-l3o"
      },
      "source": [
        "####COMPARANDO RESULDADOS"
      ]
    },
    {
      "cell_type": "code",
      "execution_count": null,
      "metadata": {
        "id": "S9igUbOvCa0z",
        "colab": {
          "base_uri": "https://localhost:8080/",
          "height": 455
        },
        "outputId": "cc8646dc-cebd-4944-ac5f-84f0c425f9b1"
      },
      "outputs": [
        {
          "output_type": "display_data",
          "data": {
            "text/plain": [
              "<Figure size 2000x800 with 5 Axes>"
            ],
            "image/png": "[encoded data removed]"
          },
          "metadata": {}
        }
      ],
      "source": [
        "# Concatenar os resultados e matrizes de confusão em uma única string\n",
        "todos_resultados = [\n",
        "    f\"Não Balanceado:\\n{resultado}\\n{confusao}\",\n",
        "    f\"Oversampling:\\n{resultado_o}\\n{confusao_o}\",\n",
        "    f\"Undersampling:\\n{resultado_u}\\n{confusao_u}\",\n",
        "    f\"Cost Sensitive:\\n{resultado_c}\\n{confusao_c}\",\n",
        "    f\"Kernel :\\n{resultado_k}\\n{confusao_k}\"\n",
        "]\n",
        "\n",
        "# Criar uma figura e eixos para a grade\n",
        "fig, axs = plt.subplots(1, len(todos_resultados), figsize=(20, 8))\n",
        "\n",
        "# Configurar os eixos para exibir texto\n",
        "for i, ax in enumerate(axs):\n",
        "    ax.text(0.5, 0.5, todos_resultados[i], fontsize=12, ha='center', va='center', wrap=True)\n",
        "    ax.axis('off')\n",
        "\n",
        "plt.tight_layout()\n",
        "plt.show()"
      ]
    },
    {
      "cell_type": "markdown",
      "metadata": {
        "id": "TaB2VATSENIn"
      },
      "source": [
        "####DESVENDANDO DISTANCIAS"
      ]
    },
    {
      "cell_type": "code",
      "execution_count": null,
      "metadata": {
        "colab": {
          "base_uri": "https://localhost:8080/",
          "height": 499
        },
        "id": "5DjVC0PBCyOC",
        "outputId": "9be16467-e0fe-45e6-f37d-7a65400e3bfc"
      },
      "outputs": [
        {
          "output_type": "execute_result",
          "data": {
            "text/plain": [
              "Valor Real\n",
              "0    Axes(0.125,0.11;0.775x0.77)\n",
              "1    Axes(0.125,0.11;0.775x0.77)\n",
              "Name: Amostras, dtype: object"
            ]
          },
          "metadata": {},
          "execution_count": 93
        },
        {
          "output_type": "display_data",
          "data": {
            "text/plain": [
              "<Figure size 640x480 with 1 Axes>"
            ],
            "image/png": "[encoded data removed]"
          },
          "metadata": {}
        }
      ],
      "source": [
        "# Calcular a distância para cada amostra no cost sensitive\n",
        "distancias_c = classificador.decision_function(teste_x_c)\n",
        "distancias_amostras = [(distancia, valor_real, valor_previsto) for distancia, valor_real, valor_previsto in zip(distancias_c, y_true_c, previsoes_c)]\n",
        "df_distacia_amostras = pd.DataFrame(distancias_amostras, columns = ['Amostras', 'Valor Real', 'Valor previsto'])\n",
        "#df_distacia_amostras\n",
        "df_distacia_amostras.groupby(\"Valor Real\").Amostras.hist()"
      ]
    },
    {
      "cell_type": "code",
      "execution_count": null,
      "metadata": {
        "id": "N3MAYbG7O6aE",
        "colab": {
          "base_uri": "https://localhost:8080/",
          "height": 423
        },
        "outputId": "62af14e2-cfd4-4aed-c0e0-dcb085e80ae6"
      },
      "outputs": [
        {
          "output_type": "execute_result",
          "data": {
            "text/plain": [
              "       Amostra  Valor Real  Valor Previsto\n",
              "0     0.298107           0               1\n",
              "1     0.229830           0               1\n",
              "2     0.302826           0               1\n",
              "3     0.477580           0               1\n",
              "4     0.417857           0               1\n",
              "...        ...         ...             ...\n",
              "3279  0.302826           0               1\n",
              "3280  0.257682           0               1\n",
              "3281  0.060193           0               1\n",
              "3282  0.142652           0               1\n",
              "3283  0.395122           0               1\n",
              "\n",
              "[3284 rows x 3 columns]"
            ],
            "text/html": [
              "\n",
              "  <div id=\"df-4b1e2276-8cca-492a-829a-6c42b3e5facc\" class=\"colab-df-container\">\n",
              "    <div>\n",
              "<style scoped>\n",
              "    .dataframe tbody tr th:only-of-type {\n",
              "        vertical-align: middle;\n",
              "    }\n",
              "\n",
              "    .dataframe tbody tr th {\n",
              "        vertical-align: top;\n",
              "    }\n",
              "\n",
              "    .dataframe thead th {\n",
              "        text-align: right;\n",
              "    }\n",
              "</style>\n",
              "<table border=\"1\" class=\"dataframe\">\n",
              "  <thead>\n",
              "    <tr style=\"text-align: right;\">\n",
              "      <th></th>\n",
              "      <th>Amostra</th>\n",
              "      <th>Valor Real</th>\n",
              "      <th>Valor Previsto</th>\n",
              "    </tr>\n",
              "  </thead>\n",
              "  <tbody>\n",
              "    <tr>\n",
              "      <th>0</th>\n",
              "      <td>0.298107</td>\n",
              "      <td>0</td>\n",
              "      <td>1</td>\n",
              "    </tr>\n",
              "    <tr>\n",
              "      <th>1</th>\n",
              "      <td>0.229830</td>\n",
              "      <td>0</td>\n",
              "      <td>1</td>\n",
              "    </tr>\n",
              "    <tr>\n",
              "      <th>2</th>\n",
              "      <td>0.302826</td>\n",
              "      <td>0</td>\n",
              "      <td>1</td>\n",
              "    </tr>\n",
              "    <tr>\n",
              "      <th>3</th>\n",
              "      <td>0.477580</td>\n",
              "      <td>0</td>\n",
              "      <td>1</td>\n",
              "    </tr>\n",
              "    <tr>\n",
              "      <th>4</th>\n",
              "      <td>0.417857</td>\n",
              "      <td>0</td>\n",
              "      <td>1</td>\n",
              "    </tr>\n",
              "    <tr>\n",
              "      <th>...</th>\n",
              "      <td>...</td>\n",
              "      <td>...</td>\n",
              "      <td>...</td>\n",
              "    </tr>\n",
              "    <tr>\n",
              "      <th>3279</th>\n",
              "      <td>0.302826</td>\n",
              "      <td>0</td>\n",
              "      <td>1</td>\n",
              "    </tr>\n",
              "    <tr>\n",
              "      <th>3280</th>\n",
              "      <td>0.257682</td>\n",
              "      <td>0</td>\n",
              "      <td>1</td>\n",
              "    </tr>\n",
              "    <tr>\n",
              "      <th>3281</th>\n",
              "      <td>0.060193</td>\n",
              "      <td>0</td>\n",
              "      <td>1</td>\n",
              "    </tr>\n",
              "    <tr>\n",
              "      <th>3282</th>\n",
              "      <td>0.142652</td>\n",
              "      <td>0</td>\n",
              "      <td>1</td>\n",
              "    </tr>\n",
              "    <tr>\n",
              "      <th>3283</th>\n",
              "      <td>0.395122</td>\n",
              "      <td>0</td>\n",
              "      <td>1</td>\n",
              "    </tr>\n",
              "  </tbody>\n",
              "</table>\n",
              "<p>3284 rows × 3 columns</p>\n",
              "</div>\n",
              "    <div class=\"colab-df-buttons\">\n",
              "\n",
              "  <div class=\"colab-df-container\">\n",
              "    <button class=\"colab-df-convert\" onclick=\"convertToInteractive('df-4b1e2276-8cca-492a-829a-6c42b3e5facc')\"\n",
              "            title=\"Convert this dataframe to an interactive table.\"\n",
              "            style=\"display:none;\">\n",
              "\n",
              "  <svg xmlns=\"http://www.w3.org/2000/svg\" height=\"24px\" viewBox=\"0 -960 960 960\">\n",
              "    <path d=\"M120-120v-720h720v720H120Zm60-500h600v-160H180v160Zm220 220h160v-160H400v160Zm0 220h160v-160H400v160ZM180-400h160v-160H180v160Zm440 0h160v-160H620v160ZM180-180h160v-160H180v160Zm440 0h160v-160H620v160Z\"/>\n",
              "  </svg>\n",
              "    </button>\n",
              "\n",
              "  <style>\n",
              "    .colab-df-container {\n",
              "      display:flex;\n",
              "      gap: 12px;\n",
              "    }\n",
              "\n",
              "    .colab-df-convert {\n",
              "      background-color: #E8F0FE;\n",
              "      border: none;\n",
              "      border-radius: 50%;\n",
              "      cursor: pointer;\n",
              "      display: none;\n",
              "      fill: #1967D2;\n",
              "      height: 32px;\n",
              "      padding: 0 0 0 0;\n",
              "      width: 32px;\n",
              "    }\n",
              "\n",
              "    .colab-df-convert:hover {\n",
              "      background-color: #E2EBFA;\n",
              "      box-shadow: 0px 1px 2px rgba(60, 64, 67, 0.3), 0px 1px 3px 1px rgba(60, 64, 67, 0.15);\n",
              "      fill: #174EA6;\n",
              "    }\n",
              "\n",
              "    .colab-df-buttons div {\n",
              "      margin-bottom: 4px;\n",
              "    }\n",
              "\n",
              "    [theme=dark] .colab-df-convert {\n",
              "      background-color: #3B4455;\n",
              "      fill: #D2E3FC;\n",
              "    }\n",
              "\n",
              "    [theme=dark] .colab-df-convert:hover {\n",
              "      background-color: #434B5C;\n",
              "      box-shadow: 0px 1px 3px 1px rgba(0, 0, 0, 0.15);\n",
              "      filter: drop-shadow(0px 1px 2px rgba(0, 0, 0, 0.3));\n",
              "      fill: #FFFFFF;\n",
              "    }\n",
              "  </style>\n",
              "\n",
              "    <script>\n",
              "      const buttonEl =\n",
              "        document.querySelector('#df-4b1e2276-8cca-492a-829a-6c42b3e5facc button.colab-df-convert');\n",
              "      buttonEl.style.display =\n",
              "        google.colab.kernel.accessAllowed ? 'block' : 'none';\n",
              "\n",
              "      async function convertToInteractive(key) {\n",
              "        const element = document.querySelector('#df-4b1e2276-8cca-492a-829a-6c42b3e5facc');\n",
              "        const dataTable =\n",
              "          await google.colab.kernel.invokeFunction('convertToInteractive',\n",
              "                                                    [key], {});\n",
              "        if (!dataTable) return;\n",
              "\n",
              "        const docLinkHtml = 'Like what you see? Visit the ' +\n",
              "          '<a target=\"_blank\" href=https://colab.research.google.com/notebooks/data_table.ipynb>data table notebook</a>'\n",
              "          + ' to learn more about interactive tables.';\n",
              "        element.innerHTML = '';\n",
              "        dataTable['output_type'] = 'display_data';\n",
              "        await google.colab.output.renderOutput(dataTable, element);\n",
              "        const docLink = document.createElement('div');\n",
              "        docLink.innerHTML = docLinkHtml;\n",
              "        element.appendChild(docLink);\n",
              "      }\n",
              "    </script>\n",
              "  </div>\n",
              "\n",
              "\n",
              "<div id=\"df-6e6567a8-67c3-406f-b200-3d907f7ab91b\">\n",
              "  <button class=\"colab-df-quickchart\" onclick=\"quickchart('df-6e6567a8-67c3-406f-b200-3d907f7ab91b')\"\n",
              "            title=\"Suggest charts.\"\n",
              "            style=\"display:none;\">\n",
              "\n",
              "<svg xmlns=\"http://www.w3.org/2000/svg\" height=\"24px\"viewBox=\"0 0 24 24\"\n",
              "     width=\"24px\">\n",
              "    <g>\n",
              "        <path d=\"M19 3H5c-1.1 0-2 .9-2 2v14c0 1.1.9 2 2 2h14c1.1 0 2-.9 2-2V5c0-1.1-.9-2-2-2zM9 17H7v-7h2v7zm4 0h-2V7h2v10zm4 0h-2v-4h2v4z\"/>\n",
              "    </g>\n",
              "</svg>\n",
              "  </button>\n",
              "\n",
              "<style>\n",
              "  .colab-df-quickchart {\n",
              "      --bg-color: #E8F0FE;\n",
              "      --fill-color: #1967D2;\n",
              "      --hover-bg-color: #E2EBFA;\n",
              "      --hover-fill-color: #174EA6;\n",
              "      --disabled-fill-color: #AAA;\n",
              "      --disabled-bg-color: #DDD;\n",
              "  }\n",
              "\n",
              "  [theme=dark] .colab-df-quickchart {\n",
              "      --bg-color: #3B4455;\n",
              "      --fill-color: #D2E3FC;\n",
              "      --hover-bg-color: #434B5C;\n",
              "      --hover-fill-color: #FFFFFF;\n",
              "      --disabled-bg-color: #3B4455;\n",
              "      --disabled-fill-color: #666;\n",
              "  }\n",
              "\n",
              "  .colab-df-quickchart {\n",
              "    background-color: var(--bg-color);\n",
              "    border: none;\n",
              "    border-radius: 50%;\n",
              "    cursor: pointer;\n",
              "    display: none;\n",
              "    fill: var(--fill-color);\n",
              "    height: 32px;\n",
              "    padding: 0;\n",
              "    width: 32px;\n",
              "  }\n",
              "\n",
              "  .colab-df-quickchart:hover {\n",
              "    background-color: var(--hover-bg-color);\n",
              "    box-shadow: 0 1px 2px rgba(60, 64, 67, 0.3), 0 1px 3px 1px rgba(60, 64, 67, 0.15);\n",
              "    fill: var(--button-hover-fill-color);\n",
              "  }\n",
              "\n",
              "  .colab-df-quickchart-complete:disabled,\n",
              "  .colab-df-quickchart-complete:disabled:hover {\n",
              "    background-color: var(--disabled-bg-color);\n",
              "    fill: var(--disabled-fill-color);\n",
              "    box-shadow: none;\n",
              "  }\n",
              "\n",
              "  .colab-df-spinner {\n",
              "    border: 2px solid var(--fill-color);\n",
              "    border-color: transparent;\n",
              "    border-bottom-color: var(--fill-color);\n",
              "    animation:\n",
              "      spin 1s steps(1) infinite;\n",
              "  }\n",
              "\n",
              "  @keyframes spin {\n",
              "    0% {\n",
              "      border-color: transparent;\n",
              "      border-bottom-color: var(--fill-color);\n",
              "      border-left-color: var(--fill-color);\n",
              "    }\n",
              "    20% {\n",
              "      border-color: transparent;\n",
              "      border-left-color: var(--fill-color);\n",
              "      border-top-color: var(--fill-color);\n",
              "    }\n",
              "    30% {\n",
              "      border-color: transparent;\n",
              "      border-left-color: var(--fill-color);\n",
              "      border-top-color: var(--fill-color);\n",
              "      border-right-color: var(--fill-color);\n",
              "    }\n",
              "    40% {\n",
              "      border-color: transparent;\n",
              "      border-right-color: var(--fill-color);\n",
              "      border-top-color: var(--fill-color);\n",
              "    }\n",
              "    60% {\n",
              "      border-color: transparent;\n",
              "      border-right-color: var(--fill-color);\n",
              "    }\n",
              "    80% {\n",
              "      border-color: transparent;\n",
              "      border-right-color: var(--fill-color);\n",
              "      border-bottom-color: var(--fill-color);\n",
              "    }\n",
              "    90% {\n",
              "      border-color: transparent;\n",
              "      border-bottom-color: var(--fill-color);\n",
              "    }\n",
              "  }\n",
              "</style>\n",
              "\n",
              "  <script>\n",
              "    async function quickchart(key) {\n",
              "      const quickchartButtonEl =\n",
              "        document.querySelector('#' + key + ' button');\n",
              "      quickchartButtonEl.disabled = true;  // To prevent multiple clicks.\n",
              "      quickchartButtonEl.classList.add('colab-df-spinner');\n",
              "      try {\n",
              "        const charts = await google.colab.kernel.invokeFunction(\n",
              "            'suggestCharts', [key], {});\n",
              "      } catch (error) {\n",
              "        console.error('Error during call to suggestCharts:', error);\n",
              "      }\n",
              "      quickchartButtonEl.classList.remove('colab-df-spinner');\n",
              "      quickchartButtonEl.classList.add('colab-df-quickchart-complete');\n",
              "    }\n",
              "    (() => {\n",
              "      let quickchartButtonEl =\n",
              "        document.querySelector('#df-6e6567a8-67c3-406f-b200-3d907f7ab91b button');\n",
              "      quickchartButtonEl.style.display =\n",
              "        google.colab.kernel.accessAllowed ? 'block' : 'none';\n",
              "    })();\n",
              "  </script>\n",
              "</div>\n",
              "    </div>\n",
              "  </div>\n"
            ]
          },
          "metadata": {},
          "execution_count": 75
        }
      ],
      "source": [
        "incorretas_positivas = [(distancia, valor_real, valor_previsto) for distancia, valor_real, valor_previsto in distancias_amostras if valor_real != valor_previsto and distancia > 0]\n",
        "df_incorretas_positivas = pd.DataFrame(incorretas_positivas, columns=['Amostra', 'Valor Real', 'Valor Previsto'])\n",
        "df_incorretas_positivas"
      ]
    },
    {
      "cell_type": "markdown",
      "metadata": {
        "id": "tpTFkZTNWGgz"
      },
      "source": [
        "#####ERROS NEGATIVOS"
      ]
    },
    {
      "cell_type": "code",
      "execution_count": null,
      "metadata": {
        "colab": {
          "base_uri": "https://localhost:8080/",
          "height": 423
        },
        "id": "EBJyFGZQPD1_",
        "outputId": "5bd1f7d6-77ec-426b-bef1-8ffe9544fe80"
      },
      "outputs": [
        {
          "output_type": "execute_result",
          "data": {
            "text/plain": [
              "      Amostra  Valor Real  Valor Previsto\n",
              "0   -0.322443           1               0\n",
              "1   -0.367587           1               0\n",
              "2   -0.322443           1               0\n",
              "3   -0.322443           1               0\n",
              "4   -0.294890           1               0\n",
              "..        ...         ...             ...\n",
              "889 -0.147689           1               0\n",
              "890 -0.013905           1               0\n",
              "891 -0.322443           1               0\n",
              "892 -0.212131           1               0\n",
              "893 -0.229083           1               0\n",
              "\n",
              "[894 rows x 3 columns]"
            ],
            "text/html": [
              "\n",
              "  <div id=\"df-fe59a777-dbdb-46ab-8107-a2040a84bdd3\" class=\"colab-df-container\">\n",
              "    <div>\n",
              "<style scoped>\n",
              "    .dataframe tbody tr th:only-of-type {\n",
              "        vertical-align: middle;\n",
              "    }\n",
              "\n",
              "    .dataframe tbody tr th {\n",
              "        vertical-align: top;\n",
              "    }\n",
              "\n",
              "    .dataframe thead th {\n",
              "        text-align: right;\n",
              "    }\n",
              "</style>\n",
              "<table border=\"1\" class=\"dataframe\">\n",
              "  <thead>\n",
              "    <tr style=\"text-align: right;\">\n",
              "      <th></th>\n",
              "      <th>Amostra</th>\n",
              "      <th>Valor Real</th>\n",
              "      <th>Valor Previsto</th>\n",
              "    </tr>\n",
              "  </thead>\n",
              "  <tbody>\n",
              "    <tr>\n",
              "      <th>0</th>\n",
              "      <td>-0.322443</td>\n",
              "      <td>1</td>\n",
              "      <td>0</td>\n",
              "    </tr>\n",
              "    <tr>\n",
              "      <th>1</th>\n",
              "      <td>-0.367587</td>\n",
              "      <td>1</td>\n",
              "      <td>0</td>\n",
              "    </tr>\n",
              "    <tr>\n",
              "      <th>2</th>\n",
              "      <td>-0.322443</td>\n",
              "      <td>1</td>\n",
              "      <td>0</td>\n",
              "    </tr>\n",
              "    <tr>\n",
              "      <th>3</th>\n",
              "      <td>-0.322443</td>\n",
              "      <td>1</td>\n",
              "      <td>0</td>\n",
              "    </tr>\n",
              "    <tr>\n",
              "      <th>4</th>\n",
              "      <td>-0.294890</td>\n",
              "      <td>1</td>\n",
              "      <td>0</td>\n",
              "    </tr>\n",
              "    <tr>\n",
              "      <th>...</th>\n",
              "      <td>...</td>\n",
              "      <td>...</td>\n",
              "      <td>...</td>\n",
              "    </tr>\n",
              "    <tr>\n",
              "      <th>889</th>\n",
              "      <td>-0.147689</td>\n",
              "      <td>1</td>\n",
              "      <td>0</td>\n",
              "    </tr>\n",
              "    <tr>\n",
              "      <th>890</th>\n",
              "      <td>-0.013905</td>\n",
              "      <td>1</td>\n",
              "      <td>0</td>\n",
              "    </tr>\n",
              "    <tr>\n",
              "      <th>891</th>\n",
              "      <td>-0.322443</td>\n",
              "      <td>1</td>\n",
              "      <td>0</td>\n",
              "    </tr>\n",
              "    <tr>\n",
              "      <th>892</th>\n",
              "      <td>-0.212131</td>\n",
              "      <td>1</td>\n",
              "      <td>0</td>\n",
              "    </tr>\n",
              "    <tr>\n",
              "      <th>893</th>\n",
              "      <td>-0.229083</td>\n",
              "      <td>1</td>\n",
              "      <td>0</td>\n",
              "    </tr>\n",
              "  </tbody>\n",
              "</table>\n",
              "<p>894 rows × 3 columns</p>\n",
              "</div>\n",
              "    <div class=\"colab-df-buttons\">\n",
              "\n",
              "  <div class=\"colab-df-container\">\n",
              "    <button class=\"colab-df-convert\" onclick=\"convertToInteractive('df-fe59a777-dbdb-46ab-8107-a2040a84bdd3')\"\n",
              "            title=\"Convert this dataframe to an interactive table.\"\n",
              "            style=\"display:none;\">\n",
              "\n",
              "  <svg xmlns=\"http://www.w3.org/2000/svg\" height=\"24px\" viewBox=\"0 -960 960 960\">\n",
              "    <path d=\"M120-120v-720h720v720H120Zm60-500h600v-160H180v160Zm220 220h160v-160H400v160Zm0 220h160v-160H400v160ZM180-400h160v-160H180v160Zm440 0h160v-160H620v160ZM180-180h160v-160H180v160Zm440 0h160v-160H620v160Z\"/>\n",
              "  </svg>\n",
              "    </button>\n",
              "\n",
              "  <style>\n",
              "    .colab-df-container {\n",
              "      display:flex;\n",
              "      gap: 12px;\n",
              "    }\n",
              "\n",
              "    .colab-df-convert {\n",
              "      background-color: #E8F0FE;\n",
              "      border: none;\n",
              "      border-radius: 50%;\n",
              "      cursor: pointer;\n",
              "      display: none;\n",
              "      fill: #1967D2;\n",
              "      height: 32px;\n",
              "      padding: 0 0 0 0;\n",
              "      width: 32px;\n",
              "    }\n",
              "\n",
              "    .colab-df-convert:hover {\n",
              "      background-color: #E2EBFA;\n",
              "      box-shadow: 0px 1px 2px rgba(60, 64, 67, 0.3), 0px 1px 3px 1px rgba(60, 64, 67, 0.15);\n",
              "      fill: #174EA6;\n",
              "    }\n",
              "\n",
              "    .colab-df-buttons div {\n",
              "      margin-bottom: 4px;\n",
              "    }\n",
              "\n",
              "    [theme=dark] .colab-df-convert {\n",
              "      background-color: #3B4455;\n",
              "      fill: #D2E3FC;\n",
              "    }\n",
              "\n",
              "    [theme=dark] .colab-df-convert:hover {\n",
              "      background-color: #434B5C;\n",
              "      box-shadow: 0px 1px 3px 1px rgba(0, 0, 0, 0.15);\n",
              "      filter: drop-shadow(0px 1px 2px rgba(0, 0, 0, 0.3));\n",
              "      fill: #FFFFFF;\n",
              "    }\n",
              "  </style>\n",
              "\n",
              "    <script>\n",
              "      const buttonEl =\n",
              "        document.querySelector('#df-fe59a777-dbdb-46ab-8107-a2040a84bdd3 button.colab-df-convert');\n",
              "      buttonEl.style.display =\n",
              "        google.colab.kernel.accessAllowed ? 'block' : 'none';\n",
              "\n",
              "      async function convertToInteractive(key) {\n",
              "        const element = document.querySelector('#df-fe59a777-dbdb-46ab-8107-a2040a84bdd3');\n",
              "        const dataTable =\n",
              "          await google.colab.kernel.invokeFunction('convertToInteractive',\n",
              "                                                    [key], {});\n",
              "        if (!dataTable) return;\n",
              "\n",
              "        const docLinkHtml = 'Like what you see? Visit the ' +\n",
              "          '<a target=\"_blank\" href=https://colab.research.google.com/notebooks/data_table.ipynb>data table notebook</a>'\n",
              "          + ' to learn more about interactive tables.';\n",
              "        element.innerHTML = '';\n",
              "        dataTable['output_type'] = 'display_data';\n",
              "        await google.colab.output.renderOutput(dataTable, element);\n",
              "        const docLink = document.createElement('div');\n",
              "        docLink.innerHTML = docLinkHtml;\n",
              "        element.appendChild(docLink);\n",
              "      }\n",
              "    </script>\n",
              "  </div>\n",
              "\n",
              "\n",
              "<div id=\"df-fc493bdf-30e4-4b86-aa78-b9e4e00724e2\">\n",
              "  <button class=\"colab-df-quickchart\" onclick=\"quickchart('df-fc493bdf-30e4-4b86-aa78-b9e4e00724e2')\"\n",
              "            title=\"Suggest charts.\"\n",
              "            style=\"display:none;\">\n",
              "\n",
              "<svg xmlns=\"http://www.w3.org/2000/svg\" height=\"24px\"viewBox=\"0 0 24 24\"\n",
              "     width=\"24px\">\n",
              "    <g>\n",
              "        <path d=\"M19 3H5c-1.1 0-2 .9-2 2v14c0 1.1.9 2 2 2h14c1.1 0 2-.9 2-2V5c0-1.1-.9-2-2-2zM9 17H7v-7h2v7zm4 0h-2V7h2v10zm4 0h-2v-4h2v4z\"/>\n",
              "    </g>\n",
              "</svg>\n",
              "  </button>\n",
              "\n",
              "<style>\n",
              "  .colab-df-quickchart {\n",
              "      --bg-color: #E8F0FE;\n",
              "      --fill-color: #1967D2;\n",
              "      --hover-bg-color: #E2EBFA;\n",
              "      --hover-fill-color: #174EA6;\n",
              "      --disabled-fill-color: #AAA;\n",
              "      --disabled-bg-color: #DDD;\n",
              "  }\n",
              "\n",
              "  [theme=dark] .colab-df-quickchart {\n",
              "      --bg-color: #3B4455;\n",
              "      --fill-color: #D2E3FC;\n",
              "      --hover-bg-color: #434B5C;\n",
              "      --hover-fill-color: #FFFFFF;\n",
              "      --disabled-bg-color: #3B4455;\n",
              "      --disabled-fill-color: #666;\n",
              "  }\n",
              "\n",
              "  .colab-df-quickchart {\n",
              "    background-color: var(--bg-color);\n",
              "    border: none;\n",
              "    border-radius: 50%;\n",
              "    cursor: pointer;\n",
              "    display: none;\n",
              "    fill: var(--fill-color);\n",
              "    height: 32px;\n",
              "    padding: 0;\n",
              "    width: 32px;\n",
              "  }\n",
              "\n",
              "  .colab-df-quickchart:hover {\n",
              "    background-color: var(--hover-bg-color);\n",
              "    box-shadow: 0 1px 2px rgba(60, 64, 67, 0.3), 0 1px 3px 1px rgba(60, 64, 67, 0.15);\n",
              "    fill: var(--button-hover-fill-color);\n",
              "  }\n",
              "\n",
              "  .colab-df-quickchart-complete:disabled,\n",
              "  .colab-df-quickchart-complete:disabled:hover {\n",
              "    background-color: var(--disabled-bg-color);\n",
              "    fill: var(--disabled-fill-color);\n",
              "    box-shadow: none;\n",
              "  }\n",
              "\n",
              "  .colab-df-spinner {\n",
              "    border: 2px solid var(--fill-color);\n",
              "    border-color: transparent;\n",
              "    border-bottom-color: var(--fill-color);\n",
              "    animation:\n",
              "      spin 1s steps(1) infinite;\n",
              "  }\n",
              "\n",
              "  @keyframes spin {\n",
              "    0% {\n",
              "      border-color: transparent;\n",
              "      border-bottom-color: var(--fill-color);\n",
              "      border-left-color: var(--fill-color);\n",
              "    }\n",
              "    20% {\n",
              "      border-color: transparent;\n",
              "      border-left-color: var(--fill-color);\n",
              "      border-top-color: var(--fill-color);\n",
              "    }\n",
              "    30% {\n",
              "      border-color: transparent;\n",
              "      border-left-color: var(--fill-color);\n",
              "      border-top-color: var(--fill-color);\n",
              "      border-right-color: var(--fill-color);\n",
              "    }\n",
              "    40% {\n",
              "      border-color: transparent;\n",
              "      border-right-color: var(--fill-color);\n",
              "      border-top-color: var(--fill-color);\n",
              "    }\n",
              "    60% {\n",
              "      border-color: transparent;\n",
              "      border-right-color: var(--fill-color);\n",
              "    }\n",
              "    80% {\n",
              "      border-color: transparent;\n",
              "      border-right-color: var(--fill-color);\n",
              "      border-bottom-color: var(--fill-color);\n",
              "    }\n",
              "    90% {\n",
              "      border-color: transparent;\n",
              "      border-bottom-color: var(--fill-color);\n",
              "    }\n",
              "  }\n",
              "</style>\n",
              "\n",
              "  <script>\n",
              "    async function quickchart(key) {\n",
              "      const quickchartButtonEl =\n",
              "        document.querySelector('#' + key + ' button');\n",
              "      quickchartButtonEl.disabled = true;  // To prevent multiple clicks.\n",
              "      quickchartButtonEl.classList.add('colab-df-spinner');\n",
              "      try {\n",
              "        const charts = await google.colab.kernel.invokeFunction(\n",
              "            'suggestCharts', [key], {});\n",
              "      } catch (error) {\n",
              "        console.error('Error during call to suggestCharts:', error);\n",
              "      }\n",
              "      quickchartButtonEl.classList.remove('colab-df-spinner');\n",
              "      quickchartButtonEl.classList.add('colab-df-quickchart-complete');\n",
              "    }\n",
              "    (() => {\n",
              "      let quickchartButtonEl =\n",
              "        document.querySelector('#df-fc493bdf-30e4-4b86-aa78-b9e4e00724e2 button');\n",
              "      quickchartButtonEl.style.display =\n",
              "        google.colab.kernel.accessAllowed ? 'block' : 'none';\n",
              "    })();\n",
              "  </script>\n",
              "</div>\n",
              "    </div>\n",
              "  </div>\n"
            ]
          },
          "metadata": {},
          "execution_count": 76
        }
      ],
      "source": [
        "incorretas_negativas = [(distancia, valor_real, valor_previsto) for distancia, valor_real, valor_previsto in distancias_amostras if valor_real != valor_previsto and distancia < 0]\n",
        "df_incorretas_negativas = pd.DataFrame(incorretas_negativas, columns=['Amostra', 'Valor Real', 'Valor Previsto'])\n",
        "df_incorretas_negativas"
      ]
    },
    {
      "cell_type": "markdown",
      "metadata": {
        "id": "xcbPMDhCezeT"
      },
      "source": [
        "##### HISTOGRAMA VALORES REAL = 0"
      ]
    },
    {
      "cell_type": "code",
      "execution_count": null,
      "metadata": {
        "id": "0_aaisoIe5Gz",
        "colab": {
          "base_uri": "https://localhost:8080/",
          "height": 472
        },
        "outputId": "d2f95cd0-7d99-42e9-d210-ade643201668"
      },
      "outputs": [
        {
          "output_type": "display_data",
          "data": {
            "text/plain": [
              "<Figure size 640x480 with 1 Axes>"
            ],
            "image/png": "[encoded data removed]"
          },
          "metadata": {}
        }
      ],
      "source": [
        "amostras_negativas = df_distacia_amostras[df_distacia_amostras['Valor Real'] == 0]\n",
        "distancias_negativas = amostras_negativas['Amostras']\n",
        "\n",
        "# Criar o histograma das distâncias\n",
        "plt.hist(distancias_negativas, bins=20, alpha=0.7)\n",
        "plt.xlabel('Distâncias')\n",
        "plt.ylabel('Frequência')\n",
        "plt.title('Histograma das Distâncias para Valor Real Negativo')\n",
        "plt.savefig('histograma_distancias_valor_real_negativo.png')\n",
        "plt.show()"
      ]
    },
    {
      "cell_type": "markdown",
      "metadata": {
        "id": "5USoJQGMfk8d"
      },
      "source": [
        "##### HISTOGRAMA VALORES REAL = 1"
      ]
    },
    {
      "cell_type": "code",
      "execution_count": null,
      "metadata": {
        "id": "urhf0dRlfl8T",
        "colab": {
          "base_uri": "https://localhost:8080/",
          "height": 472
        },
        "outputId": "2b3a837b-6cc2-4ccb-b39c-69196d2632c6"
      },
      "outputs": [
        {
          "output_type": "display_data",
          "data": {
            "text/plain": [
              "<Figure size 640x480 with 1 Axes>"
            ],
            "image/png": "[encoded data removed]"
          },
          "metadata": {}
        }
      ],
      "source": [
        "amostras_positivas = df_distacia_amostras[df_distacia_amostras['Valor Real'] == 1]\n",
        "distancias_positivas = amostras_positivas['Amostras']\n",
        "\n",
        "# Criar o histograma das distâncias\n",
        "plt.hist(distancias_positivas, bins=20, alpha=0.7)\n",
        "plt.xlabel('Distâncias')\n",
        "plt.ylabel('Frequência')\n",
        "plt.title('Histograma das Distâncias para Valor Real Positivo')\n",
        "plt.savefig('histograma_distancias_valor_real_positivo.png')\n",
        "plt.show()"
      ]
    }
  ],
  "metadata": {
    "colab": {
      "provenance": [],
      "authorship_tag": "ABX9TyMlCCxYcUYOGSzUC9W12QxW"
    },
    "kernelspec": {
      "display_name": "Python 3",
      "name": "python3"
    },
    "language_info": {
      "name": "python"
    }
  },
  "nbformat": 4,
  "nbformat_minor": 0
}